{
 "cells": [
  {
   "cell_type": "markdown",
   "id": "115f4886",
   "metadata": {},
   "source": [
    "# 🏠 Housing Price Prediction\n",
    "\n",
    "Прогнозирование средней стоимости жилья в Калифорнии на основе демографических и экономических данных."
   ]
  },
  {
   "cell_type": "markdown",
   "id": "7387edfb",
   "metadata": {},
   "source": [
    "## 📥 Загрузка данных"
   ]
  },
  {
   "cell_type": "code",
   "execution_count": null,
   "id": "73e86eec",
   "metadata": {},
   "outputs": [],
   "source": [
    "from sklearn.datasets import fetch_california_housing\n",
    "import pandas as pd\n",
    "\n",
    "data = fetch_california_housing(as_frame=True)\n",
    "df = data.frame\n",
    "df.head()"
   ]
  },
  {
   "cell_type": "markdown",
   "id": "50616e34",
   "metadata": {},
   "source": [
    "## 🔍 Первичный анализ"
   ]
  },
  {
   "cell_type": "code",
   "execution_count": null,
   "id": "15649f4d",
   "metadata": {},
   "outputs": [],
   "source": [
    "df.describe()"
   ]
  },
  {
   "cell_type": "markdown",
   "id": "6e5aba47",
   "metadata": {},
   "source": [
    "## 📊 Корреляция признаков"
   ]
  },
  {
   "cell_type": "code",
   "execution_count": null,
   "id": "92f1ff42",
   "metadata": {},
   "outputs": [],
   "source": [
    "import seaborn as sns\n",
    "import matplotlib.pyplot as plt\n",
    "\n",
    "plt.figure(figsize=(10, 6))\n",
    "sns.heatmap(df.corr(), annot=True, cmap=\"coolwarm\")\n",
    "plt.title(\"Корреляция признаков\")\n",
    "plt.show()"
   ]
  },
  {
   "cell_type": "markdown",
   "id": "e173a614",
   "metadata": {},
   "source": [
    "## 🤖 Построение моделей: Linear Regression и Random Forest"
   ]
  },
  {
   "cell_type": "code",
   "execution_count": null,
   "id": "d73f6736",
   "metadata": {},
   "outputs": [],
   "source": [
    "from sklearn.model_selection import train_test_split\n",
    "from sklearn.linear_model import LinearRegression\n",
    "from sklearn.ensemble import RandomForestRegressor\n",
    "from sklearn.metrics import mean_squared_error, r2_score\n",
    "\n",
    "X = df.drop('MedHouseVal', axis=1)\n",
    "y = df['MedHouseVal']\n",
    "\n",
    "X_train, X_test, y_train, y_test = train_test_split(X, y, test_size=0.2, random_state=42)\n",
    "\n",
    "# Linear Regression\n",
    "lr = LinearRegression()\n",
    "lr.fit(X_train, y_train)\n",
    "lr_pred = lr.predict(X_test)\n",
    "\n",
    "# Random Forest\n",
    "rf = RandomForestRegressor(n_estimators=100, random_state=42)\n",
    "rf.fit(X_train, y_train)\n",
    "rf_pred = rf.predict(X_test)\n",
    "\n",
    "print(\"🔹 Linear Regression R²:\", r2_score(y_test, lr_pred))\n",
    "print(\"🔹 Random Forest R²:\", r2_score(y_test, rf_pred))"
   ]
  },
  {
   "cell_type": "markdown",
   "id": "72384c83",
   "metadata": {},
   "source": [
    "## 📌 Важность признаков (Random Forest)"
   ]
  },
  {
   "cell_type": "code",
   "execution_count": null,
   "id": "bbbf6073",
   "metadata": {},
   "outputs": [],
   "source": [
    "import numpy as np\n",
    "\n",
    "importances = rf.feature_importances_\n",
    "features = X.columns\n",
    "indices = np.argsort(importances)\n",
    "\n",
    "plt.figure(figsize=(8, 6))\n",
    "plt.title(\"Важность признаков\")\n",
    "plt.barh(range(len(indices)), importances[indices], align=\"center\")\n",
    "plt.yticks(range(len(indices)), [features[i] for i in indices])\n",
    "plt.xlabel(\"Вклад\")\n",
    "plt.tight_layout()\n",
    "plt.show()"
   ]
  },
  {
   "cell_type": "markdown",
   "id": "03041997",
   "metadata": {},
   "source": [
    "## ✅ Выводы\n",
    "- Случайный лес показал лучшую точность (выше R²).\n",
    "- Наибольший вклад в цену жилья вносят медианный доход и среднее количество комнат.\n",
    "- Возможные улучшения: стандартизация признаков, подбор гиперпараметров, кросс-валидация."
   ]
  }
 ],
 "metadata": {},
 "nbformat": 4,
 "nbformat_minor": 5
}
